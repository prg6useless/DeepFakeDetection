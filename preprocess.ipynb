{
 "cells": [
  {
   "cell_type": "code",
   "execution_count": null,
   "metadata": {},
   "outputs": [],
   "source": [
    "import cv2\n",
    "import os\n",
    "import random\n",
    "from tqdm import tqdm\n",
    "import matplotlib.pyplot as plt"
   ]
  },
  {
   "cell_type": "code",
   "execution_count": null,
   "metadata": {},
   "outputs": [],
   "source": [
    "face_cascade = cv2.CascadeClassifier(cv2.data.haarcascades + 'haarcascade_frontalface_default.xml')\n",
    "\n",
    "def extract_random_frames_with_face(video_dir, output_dir, label, max_frames=10, target_size=(224, 224)):\n",
    "    os.makedirs(output_dir, exist_ok=True)\n",
    "    \n",
    "    for video_name in tqdm(os.listdir(video_dir), desc=f\"Processing {label} videos\"):\n",
    "        video_path = os.path.join(video_dir, video_name)\n",
    "        video_id = os.path.splitext(video_name)[0]\n",
    "        \n",
    "        cap = cv2.VideoCapture(video_path)\n",
    "        total_frames = int(cap.get(cv2.CAP_PROP_FRAME_COUNT))\n",
    "        \n",
    "        frame_indices = sorted(random.sample(range(total_frames), min(max_frames, total_frames)))\n",
    "        frame_count = 0\n",
    "\n",
    "        for idx in frame_indices:\n",
    "            cap.set(cv2.CAP_PROP_POS_FRAMES, idx) \n",
    "            ret, frame = cap.read()\n",
    "            if not ret:\n",
    "                continue\n",
    "            gray = cv2.cvtColor(frame, cv2.COLOR_BGR2GRAY)\n",
    "\n",
    "            faces = face_cascade.detectMultiScale(gray, scaleFactor=1.1, minNeighbors=5, minSize=(30, 30))\n",
    "            \n",
    "            if len(faces) > 0:\n",
    "                \n",
    "                x, y, w, h = faces[0]\n",
    "                cropped_face = frame[y:y+h, x:x+w]\n",
    "                \n",
    "                resized_face = cv2.resize(cropped_face, target_size)\n",
    "\n",
    "                frame_path = os.path.join(output_dir, f\"{label}_{video_id}_frame_{frame_count:04d}.jpg\")\n",
    "                cv2.imwrite(frame_path, resized_face)\n",
    "                frame_count += 1            \n",
    "        cap.release()\n",
    "\n",
    "real_videos_dir = \"/teamspace/studios/this_studio/deepfake/dataset/videos/real\"\n",
    "fake_videos_dir = \"/teamspace/studios/this_studio/deepfake/dataset/videos/fake\"\n",
    "\n",
    "real_frames_dir = \"/teamspace/studios/this_studio/deepfake/dataset/images/real\"\n",
    "fake_frames_dir = \"/teamspace/studios/this_studio/deepfake/dataset/images/fake\"\n",
    "\n",
    "extract_random_frames_with_face(real_videos_dir, real_frames_dir, \"real\")\n",
    "extract_random_frames_with_face(fake_videos_dir, fake_frames_dir, \"fake\")\n"
   ]
  },
  {
   "cell_type": "code",
   "execution_count": null,
   "metadata": {},
   "outputs": [],
   "source": [
    "import cv2\n",
    "\n",
    "def extract_frame_from_video(video_path, frame_index=0):\n",
    "    cap = cv2.VideoCapture(video_path)\n",
    "    \n",
    "    cap.set(cv2.CAP_PROP_POS_FRAMES, frame_index)\n",
    "    \n",
    "    ret, frame = cap.read()\n",
    "    if ret:\n",
    "        return frame\n",
    "    else:\n",
    "        print(\"Failed to extract frame.\")\n",
    "        return None\n",
    "    cap.release()\n",
    "\n",
    "def show_detected_face_in_video(video_path, frame_index=0):\n",
    "    frame = extract_frame_from_video(video_path, frame_index)\n",
    "    \n",
    "    if frame is not None:\n",
    "        gray = cv2.cvtColor(frame, cv2.COLOR_BGR2GRAY)\n",
    "\n",
    "        face_cascade = cv2.CascadeClassifier(cv2.data.haarcascades + 'haarcascade_frontalface_default.xml')\n",
    "        \n",
    "        faces = face_cascade.detectMultiScale(gray, scaleFactor=1.1, minNeighbors=5, minSize=(30, 30))\n",
    "\n",
    "        for (x, y, w, h) in faces:\n",
    "            cv2.rectangle(frame, (x, y), (x+w, y+h), (0, 255, 0), 2)  \n",
    "        frame_rgb = cv2.cvtColor(frame, cv2.COLOR_BGR2RGB)\n",
    "\n",
    "        plt.imshow(frame_rgb)\n",
    "        plt.axis('off') \n",
    "        plt.show()\n",
    "\n",
    "video_path = '/teamspace/studios/this_studio/deepfake/dataset/videos/fake/03_11__exit_phone_room__P08VGHTA.mp4'  # Replace with your video path\n",
    "show_detected_face_in_video(video_path, frame_index=50)  \n"
   ]
  }
 ],
 "metadata": {
  "kernelspec": {
   "display_name": "Python 3.10.9 ('base')",
   "language": "python",
   "name": "python3"
  },
  "language_info": {
   "name": "python",
   "version": "3.10.9"
  },
  "vscode": {
   "interpreter": {
    "hash": "c4a3b5997e56804f4b9ff1fb1a01ea563d597a5a66c62c01df4a82f80bc52449"
   }
  }
 },
 "nbformat": 4,
 "nbformat_minor": 2
}
